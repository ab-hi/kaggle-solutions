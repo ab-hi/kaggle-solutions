{
 "cells": [
  {
   "cell_type": "code",
   "execution_count": 116,
   "metadata": {
    "collapsed": false
   },
   "outputs": [],
   "source": [
    "import pandas as pd\n",
    "import numpy as np\n",
    "\n",
    "from sklearn import tree\n",
    "from sklearn.utils import shuffle\n",
    "\n",
    "from matplotlib import pyplot as plt\n",
    "%matplotlib inline\n",
    "\n",
    "import keras\n",
    "from keras.models import Sequential\n",
    "from keras.layers import Input, Activation, Dense\n",
    "from keras.utils import np_utils"
   ]
  },
  {
   "cell_type": "code",
   "execution_count": 96,
   "metadata": {
    "collapsed": false
   },
   "outputs": [
    {
     "name": "stdout",
     "output_type": "stream",
     "text": [
      "Index([u'Id', u'SepalLengthCm', u'SepalWidthCm', u'PetalLengthCm',\n",
      "       u'PetalWidthCm', u'Species'],\n",
      "      dtype='object')\n"
     ]
    },
    {
     "data": {
      "text/html": [
       "<div>\n",
       "<table border=\"1\" class=\"dataframe\">\n",
       "  <thead>\n",
       "    <tr style=\"text-align: right;\">\n",
       "      <th></th>\n",
       "      <th>Id</th>\n",
       "      <th>SepalLengthCm</th>\n",
       "      <th>SepalWidthCm</th>\n",
       "      <th>PetalLengthCm</th>\n",
       "      <th>PetalWidthCm</th>\n",
       "      <th>Species</th>\n",
       "    </tr>\n",
       "  </thead>\n",
       "  <tbody>\n",
       "    <tr>\n",
       "      <th>3</th>\n",
       "      <td>4</td>\n",
       "      <td>4.6</td>\n",
       "      <td>3.1</td>\n",
       "      <td>1.5</td>\n",
       "      <td>0.2</td>\n",
       "      <td>Iris-setosa</td>\n",
       "    </tr>\n",
       "    <tr>\n",
       "      <th>44</th>\n",
       "      <td>45</td>\n",
       "      <td>5.1</td>\n",
       "      <td>3.8</td>\n",
       "      <td>1.9</td>\n",
       "      <td>0.4</td>\n",
       "      <td>Iris-setosa</td>\n",
       "    </tr>\n",
       "    <tr>\n",
       "      <th>26</th>\n",
       "      <td>27</td>\n",
       "      <td>5.0</td>\n",
       "      <td>3.4</td>\n",
       "      <td>1.6</td>\n",
       "      <td>0.4</td>\n",
       "      <td>Iris-setosa</td>\n",
       "    </tr>\n",
       "    <tr>\n",
       "      <th>83</th>\n",
       "      <td>84</td>\n",
       "      <td>6.0</td>\n",
       "      <td>2.7</td>\n",
       "      <td>5.1</td>\n",
       "      <td>1.6</td>\n",
       "      <td>Iris-versicolor</td>\n",
       "    </tr>\n",
       "    <tr>\n",
       "      <th>1</th>\n",
       "      <td>2</td>\n",
       "      <td>4.9</td>\n",
       "      <td>3.0</td>\n",
       "      <td>1.4</td>\n",
       "      <td>0.2</td>\n",
       "      <td>Iris-setosa</td>\n",
       "    </tr>\n",
       "    <tr>\n",
       "      <th>6</th>\n",
       "      <td>7</td>\n",
       "      <td>4.6</td>\n",
       "      <td>3.4</td>\n",
       "      <td>1.4</td>\n",
       "      <td>0.3</td>\n",
       "      <td>Iris-setosa</td>\n",
       "    </tr>\n",
       "    <tr>\n",
       "      <th>125</th>\n",
       "      <td>126</td>\n",
       "      <td>7.2</td>\n",
       "      <td>3.2</td>\n",
       "      <td>6.0</td>\n",
       "      <td>1.8</td>\n",
       "      <td>Iris-virginica</td>\n",
       "    </tr>\n",
       "    <tr>\n",
       "      <th>27</th>\n",
       "      <td>28</td>\n",
       "      <td>5.2</td>\n",
       "      <td>3.5</td>\n",
       "      <td>1.5</td>\n",
       "      <td>0.2</td>\n",
       "      <td>Iris-setosa</td>\n",
       "    </tr>\n",
       "    <tr>\n",
       "      <th>49</th>\n",
       "      <td>50</td>\n",
       "      <td>5.0</td>\n",
       "      <td>3.3</td>\n",
       "      <td>1.4</td>\n",
       "      <td>0.2</td>\n",
       "      <td>Iris-setosa</td>\n",
       "    </tr>\n",
       "    <tr>\n",
       "      <th>136</th>\n",
       "      <td>137</td>\n",
       "      <td>6.3</td>\n",
       "      <td>3.4</td>\n",
       "      <td>5.6</td>\n",
       "      <td>2.4</td>\n",
       "      <td>Iris-virginica</td>\n",
       "    </tr>\n",
       "  </tbody>\n",
       "</table>\n",
       "</div>"
      ],
      "text/plain": [
       "      Id  SepalLengthCm  SepalWidthCm  PetalLengthCm  PetalWidthCm  \\\n",
       "3      4            4.6           3.1            1.5           0.2   \n",
       "44    45            5.1           3.8            1.9           0.4   \n",
       "26    27            5.0           3.4            1.6           0.4   \n",
       "83    84            6.0           2.7            5.1           1.6   \n",
       "1      2            4.9           3.0            1.4           0.2   \n",
       "6      7            4.6           3.4            1.4           0.3   \n",
       "125  126            7.2           3.2            6.0           1.8   \n",
       "27    28            5.2           3.5            1.5           0.2   \n",
       "49    50            5.0           3.3            1.4           0.2   \n",
       "136  137            6.3           3.4            5.6           2.4   \n",
       "\n",
       "             Species  \n",
       "3        Iris-setosa  \n",
       "44       Iris-setosa  \n",
       "26       Iris-setosa  \n",
       "83   Iris-versicolor  \n",
       "1        Iris-setosa  \n",
       "6        Iris-setosa  \n",
       "125   Iris-virginica  \n",
       "27       Iris-setosa  \n",
       "49       Iris-setosa  \n",
       "136   Iris-virginica  "
      ]
     },
     "execution_count": 96,
     "metadata": {},
     "output_type": "execute_result"
    }
   ],
   "source": [
    "\n",
    "data = pd.read_csv('./iris.csv')\n",
    "data =shuffle(data)\n",
    "\n",
    "print data.columns\n",
    "data.head(n=10)\n"
   ]
  },
  {
   "cell_type": "code",
   "execution_count": 97,
   "metadata": {
    "collapsed": true
   },
   "outputs": [],
   "source": [
    "species_mapping = {\n",
    "    'Iris-setosa': 0,\n",
    "    'Iris-versicolor': 1,\n",
    "    'Iris-virginica': 2\n",
    "}"
   ]
  },
  {
   "cell_type": "code",
   "execution_count": 98,
   "metadata": {
    "collapsed": false
   },
   "outputs": [
    {
     "name": "stdout",
     "output_type": "stream",
     "text": [
      "(150,)\n"
     ]
    }
   ],
   "source": [
    "species = data['Species'].values\n",
    "print species.shape\n",
    "\n",
    "quant_species = np.zeros(species.shape)\n",
    "\n",
    "for ix in range(quant_species.shape[0]):\n",
    "    quant_species[ix] = species_mapping[species[ix]]"
   ]
  },
  {
   "cell_type": "code",
   "execution_count": 99,
   "metadata": {
    "collapsed": false
   },
   "outputs": [
    {
     "name": "stdout",
     "output_type": "stream",
     "text": [
      "[ 5.6  2.9  3.6  1.3  1. ]\n"
     ]
    }
   ],
   "source": [
    "ds = np.asarray([data['SepalLengthCm'], data['SepalWidthCm'], data['PetalLengthCm'], data['PetalWidthCm'], quant_species]).astype(\"float\").T\n",
    "y = quant_species\n",
    "\n",
    "print ds[120]"
   ]
  },
  {
   "cell_type": "code",
   "execution_count": 100,
   "metadata": {
    "collapsed": false
   },
   "outputs": [
    {
     "name": "stdout",
     "output_type": "stream",
     "text": [
      "(120, 4) (30, 4)\n",
      "(120, 3) (30, 3)\n"
     ]
    }
   ],
   "source": [
    "split = int(data.shape[0]*0.8)\n",
    "\n",
    "x_train =ds[:split, :-1]\n",
    "x_test = ds[split: , :-1]\n",
    "\n",
    "\n",
    "y_train = np_utils.to_categorical(ds[:split, -1])\n",
    "y_test = np_utils.to_categorical(ds[split:, -1])\n",
    "\n",
    "print x_train.shape, x_test.shape\n",
    "print y_train.shape, y_test.shape "
   ]
  },
  {
   "cell_type": "code",
   "execution_count": 109,
   "metadata": {
    "collapsed": false
   },
   "outputs": [
    {
     "name": "stdout",
     "output_type": "stream",
     "text": [
      "_________________________________________________________________\n",
      "Layer (type)                 Output Shape              Param #   \n",
      "=================================================================\n",
      "dense_31 (Dense)             (None, 8)                 40        \n",
      "_________________________________________________________________\n",
      "activation_30 (Activation)   (None, 8)                 0         \n",
      "_________________________________________________________________\n",
      "dense_32 (Dense)             (None, 5)                 45        \n",
      "_________________________________________________________________\n",
      "activation_31 (Activation)   (None, 5)                 0         \n",
      "_________________________________________________________________\n",
      "dense_33 (Dense)             (None, 3)                 18        \n",
      "_________________________________________________________________\n",
      "activation_32 (Activation)   (None, 3)                 0         \n",
      "=================================================================\n",
      "Total params: 103.0\n",
      "Trainable params: 103.0\n",
      "Non-trainable params: 0.0\n",
      "_________________________________________________________________\n"
     ]
    }
   ],
   "source": [
    "model = Sequential()\n",
    "model.add(Dense(8, input_shape=(4,)))\n",
    "model.add(Activation('tanh'))\n",
    "\n",
    "model.add(Dense(5))\n",
    "model.add(Activation('relu'))\n",
    "\n",
    "model.add(Dense(3))\n",
    "model.add(Activation('softmax'))\n",
    "\n",
    "\n",
    "model.summary()\n",
    "model.compile(loss='categorical_crossentropy', optimizer='adagrad', metrics=['accuracy'])"
   ]
  },
  {
   "cell_type": "code",
   "execution_count": 112,
   "metadata": {
    "collapsed": false
   },
   "outputs": [
    {
     "name": "stdout",
     "output_type": "stream",
     "text": [
      "Train on 120 samples, validate on 30 samples\n",
      "Epoch 1/50\n",
      "120/120 [==============================] - 0s - loss: 0.5919 - acc: 0.7917 - val_loss: 0.5925 - val_acc: 0.7667\n",
      "Epoch 2/50\n",
      "120/120 [==============================] - 0s - loss: 0.5872 - acc: 0.8000 - val_loss: 0.5877 - val_acc: 0.8000\n",
      "Epoch 3/50\n",
      "120/120 [==============================] - 0s - loss: 0.5832 - acc: 0.8167 - val_loss: 0.5835 - val_acc: 0.7667\n",
      "Epoch 4/50\n",
      "120/120 [==============================] - 0s - loss: 0.5797 - acc: 0.8000 - val_loss: 0.5782 - val_acc: 0.8000\n",
      "Epoch 5/50\n",
      "120/120 [==============================] - 0s - loss: 0.5757 - acc: 0.8167 - val_loss: 0.5731 - val_acc: 0.8000\n",
      "Epoch 6/50\n",
      "120/120 [==============================] - 0s - loss: 0.5717 - acc: 0.8167 - val_loss: 0.5679 - val_acc: 0.8000\n",
      "Epoch 7/50\n",
      "120/120 [==============================] - 0s - loss: 0.5683 - acc: 0.8167 - val_loss: 0.5634 - val_acc: 0.8333\n",
      "Epoch 8/50\n",
      "120/120 [==============================] - 0s - loss: 0.5638 - acc: 0.8333 - val_loss: 0.5592 - val_acc: 0.8333\n",
      "Epoch 9/50\n",
      "120/120 [==============================] - 0s - loss: 0.5602 - acc: 0.8417 - val_loss: 0.5550 - val_acc: 0.8333\n",
      "Epoch 10/50\n",
      "120/120 [==============================] - 0s - loss: 0.5562 - acc: 0.8333 - val_loss: 0.5507 - val_acc: 0.8667\n",
      "Epoch 11/50\n",
      "120/120 [==============================] - 0s - loss: 0.5530 - acc: 0.8417 - val_loss: 0.5462 - val_acc: 0.8667\n",
      "Epoch 12/50\n",
      "120/120 [==============================] - 0s - loss: 0.5491 - acc: 0.8417 - val_loss: 0.5422 - val_acc: 0.8667\n",
      "Epoch 13/50\n",
      "120/120 [==============================] - 0s - loss: 0.5460 - acc: 0.8333 - val_loss: 0.5378 - val_acc: 0.8667\n",
      "Epoch 14/50\n",
      "120/120 [==============================] - 0s - loss: 0.5431 - acc: 0.8500 - val_loss: 0.5353 - val_acc: 0.8667\n",
      "Epoch 15/50\n",
      "120/120 [==============================] - 0s - loss: 0.5401 - acc: 0.8083 - val_loss: 0.5296 - val_acc: 0.8667\n",
      "Epoch 16/50\n",
      "120/120 [==============================] - 0s - loss: 0.5353 - acc: 0.8417 - val_loss: 0.5261 - val_acc: 0.8667\n",
      "Epoch 17/50\n",
      "120/120 [==============================] - 0s - loss: 0.5325 - acc: 0.8417 - val_loss: 0.5225 - val_acc: 0.8667\n",
      "Epoch 18/50\n",
      "120/120 [==============================] - 0s - loss: 0.5294 - acc: 0.8417 - val_loss: 0.5180 - val_acc: 0.8667\n",
      "Epoch 19/50\n",
      "120/120 [==============================] - 0s - loss: 0.5276 - acc: 0.8583 - val_loss: 0.5156 - val_acc: 0.8667\n",
      "Epoch 20/50\n",
      "120/120 [==============================] - 0s - loss: 0.5244 - acc: 0.8500 - val_loss: 0.5122 - val_acc: 0.8667\n",
      "Epoch 21/50\n",
      "120/120 [==============================] - 0s - loss: 0.5202 - acc: 0.8417 - val_loss: 0.5081 - val_acc: 0.8667\n",
      "Epoch 22/50\n",
      "120/120 [==============================] - 0s - loss: 0.5170 - acc: 0.8583 - val_loss: 0.5051 - val_acc: 0.8667\n",
      "Epoch 23/50\n",
      "120/120 [==============================] - 0s - loss: 0.5138 - acc: 0.8500 - val_loss: 0.5010 - val_acc: 0.8667\n",
      "Epoch 24/50\n",
      "120/120 [==============================] - 0s - loss: 0.5114 - acc: 0.8667 - val_loss: 0.4982 - val_acc: 0.8667\n",
      "Epoch 25/50\n",
      "120/120 [==============================] - 0s - loss: 0.5087 - acc: 0.8500 - val_loss: 0.4945 - val_acc: 0.8667\n",
      "Epoch 26/50\n",
      "120/120 [==============================] - 0s - loss: 0.5064 - acc: 0.8500 - val_loss: 0.4904 - val_acc: 0.8667\n",
      "Epoch 27/50\n",
      "120/120 [==============================] - 0s - loss: 0.5026 - acc: 0.8583 - val_loss: 0.4875 - val_acc: 0.8667\n",
      "Epoch 28/50\n",
      "120/120 [==============================] - 0s - loss: 0.4999 - acc: 0.8667 - val_loss: 0.4844 - val_acc: 0.8667\n",
      "Epoch 29/50\n",
      "120/120 [==============================] - 0s - loss: 0.4978 - acc: 0.8583 - val_loss: 0.4808 - val_acc: 0.8667\n",
      "Epoch 30/50\n",
      "120/120 [==============================] - 0s - loss: 0.4947 - acc: 0.8583 - val_loss: 0.4774 - val_acc: 0.9000\n",
      "Epoch 31/50\n",
      "120/120 [==============================] - 0s - loss: 0.4919 - acc: 0.8583 - val_loss: 0.4744 - val_acc: 0.9333\n",
      "Epoch 32/50\n",
      "120/120 [==============================] - 0s - loss: 0.4909 - acc: 0.8583 - val_loss: 0.4719 - val_acc: 0.9000\n",
      "Epoch 33/50\n",
      "120/120 [==============================] - 0s - loss: 0.4876 - acc: 0.8583 - val_loss: 0.4690 - val_acc: 0.9000\n",
      "Epoch 34/50\n",
      "120/120 [==============================] - 0s - loss: 0.4851 - acc: 0.8500 - val_loss: 0.4654 - val_acc: 0.9667\n",
      "Epoch 35/50\n",
      "120/120 [==============================] - 0s - loss: 0.4823 - acc: 0.8750 - val_loss: 0.4630 - val_acc: 0.9333\n",
      "Epoch 36/50\n",
      "120/120 [==============================] - 0s - loss: 0.4796 - acc: 0.8750 - val_loss: 0.4604 - val_acc: 0.9333\n",
      "Epoch 37/50\n",
      "120/120 [==============================] - 0s - loss: 0.4774 - acc: 0.8667 - val_loss: 0.4572 - val_acc: 0.9667\n",
      "Epoch 38/50\n",
      "120/120 [==============================] - 0s - loss: 0.4765 - acc: 0.8833 - val_loss: 0.4556 - val_acc: 0.9333\n",
      "Epoch 39/50\n",
      "120/120 [==============================] - 0s - loss: 0.4726 - acc: 0.8667 - val_loss: 0.4525 - val_acc: 0.9667\n",
      "Epoch 40/50\n",
      "120/120 [==============================] - 0s - loss: 0.4712 - acc: 0.8667 - val_loss: 0.4493 - val_acc: 0.9667\n",
      "Epoch 41/50\n",
      "120/120 [==============================] - 0s - loss: 0.4690 - acc: 0.8667 - val_loss: 0.4461 - val_acc: 0.9667\n",
      "Epoch 42/50\n",
      "120/120 [==============================] - 0s - loss: 0.4663 - acc: 0.8750 - val_loss: 0.4436 - val_acc: 0.9667\n",
      "Epoch 43/50\n",
      "120/120 [==============================] - 0s - loss: 0.4640 - acc: 0.8833 - val_loss: 0.4417 - val_acc: 0.9667\n",
      "Epoch 44/50\n",
      "120/120 [==============================] - 0s - loss: 0.4625 - acc: 0.8667 - val_loss: 0.4383 - val_acc: 0.9667\n",
      "Epoch 45/50\n",
      "120/120 [==============================] - 0s - loss: 0.4598 - acc: 0.8833 - val_loss: 0.4361 - val_acc: 0.9667\n",
      "Epoch 46/50\n",
      "120/120 [==============================] - 0s - loss: 0.4577 - acc: 0.8833 - val_loss: 0.4343 - val_acc: 0.9667\n",
      "Epoch 47/50\n",
      "120/120 [==============================] - 0s - loss: 0.4568 - acc: 0.9000 - val_loss: 0.4325 - val_acc: 0.9667\n",
      "Epoch 48/50\n",
      "120/120 [==============================] - 0s - loss: 0.4533 - acc: 0.8750 - val_loss: 0.4296 - val_acc: 0.9667\n",
      "Epoch 49/50\n",
      "120/120 [==============================] - 0s - loss: 0.4514 - acc: 0.8833 - val_loss: 0.4270 - val_acc: 0.9667\n",
      "Epoch 50/50\n",
      "120/120 [==============================] - 0s - loss: 0.4498 - acc: 0.8833 - val_loss: 0.4245 - val_acc: 0.9667\n"
     ]
    }
   ],
   "source": [
    "hist = model.fit(x_train, y_train, epochs=50, batch_size=30, validation_data=(x_test, y_test))"
   ]
  },
  {
   "cell_type": "code",
   "execution_count": 117,
   "metadata": {
    "collapsed": false
   },
   "outputs": [
    {
     "data": {
      "image/png": "[encoded data removed]",
      "text/plain": [
       "<matplotlib.figure.Figure at 0xd43f650>"
      ]
     },
     "metadata": {},
     "output_type": "display_data"
    },
    {
     "data": {
      "image/png": "[encoded data removed]",
      "text/plain": [
       "<matplotlib.figure.Figure at 0xd43ff90>"
      ]
     },
     "metadata": {},
     "output_type": "display_data"
    }
   ],
   "source": [
    "plt.figure(0)\n",
    "plt.plot(hist.history['acc'], 'r')\n",
    "plt.plot(hist.history['val_acc'], 'g')\n",
    "\n",
    "plt.figure(1)\n",
    "plt.plot(hist.history['loss'], 'r')\n",
    "plt.plot(hist.history['val_loss'], 'g')\n",
    "\n",
    "plt.show()"
   ]
  },
  {
   "cell_type": "code",
   "execution_count": 143,
   "metadata": {
    "collapsed": false
   },
   "outputs": [
    {
     "name": "stdout",
     "output_type": "stream",
     "text": [
      "[ 7.7  3.   6.1  2.3  2. ]\n",
      "[ 7.7  3.   6.1  2.3]\n",
      "[ 0.  0.  1.]\n"
     ]
    },
    {
     "data": {
      "text/plain": [
       "2"
      ]
     },
     "execution_count": 143,
     "metadata": {},
     "output_type": "execute_result"
    }
   ],
   "source": [
    "prediction = model.predict(x_test)\n",
    "\n",
    "print ds[135]\n",
    "print x_test[15]\n",
    "print y_test[15]\n",
    "\n",
    "np.argmax(prediction[15])"
   ]
  },
  {
   "cell_type": "code",
   "execution_count": null,
   "metadata": {
    "collapsed": true
   },
   "outputs": [],
   "source": []
  }
 ],
 "metadata": {
  "anaconda-cloud": {},
  "kernelspec": {
   "display_name": "Python [conda root]",
   "language": "python",
   "name": "conda-root-py"
  },
  "language_info": {
   "codemirror_mode": {
    "name": "ipython",
    "version": 2
   },
   "file_extension": ".py",
   "mimetype": "text/x-python",
   "name": "python",
   "nbconvert_exporter": "python",
   "pygments_lexer": "ipython2",
   "version": "2.7.12"
  }
 },
 "nbformat": 4,
 "nbformat_minor": 1
}
