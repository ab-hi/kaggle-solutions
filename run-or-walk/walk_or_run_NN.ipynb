{
 "cells": [
  {
   "cell_type": "code",
   "execution_count": 3,
   "metadata": {},
   "outputs": [],
   "source": [
    "import pandas as pd\n",
    "import numpy as np\n",
    "from matplotlib import pyplot as plt\n",
    "%matplotlib inline\n",
    "\n",
    "import keras\n",
    "from keras.layers import Input, Activation, Dense\n",
    "from keras.utils import np_utils\n",
    "from keras.models import Sequential"
   ]
  },
  {
   "cell_type": "code",
   "execution_count": 17,
   "metadata": {},
   "outputs": [],
   "source": [
    "ds=pd.read_csv('run-or-walk/dataset.csv')\n",
    "ds.head(n=10)\n",
    "data=ds.values\n",
    "\n",
    "#print data.shape"
   ]
  },
  {
   "cell_type": "code",
   "execution_count": 31,
   "metadata": {},
   "outputs": [
    {
     "name": "stdout",
     "output_type": "stream",
     "text": [
      "(16000L, 6L) (16000L, 2L)\n",
      "(4000L, 6L) (4000L, 2L)\n"
     ]
    }
   ],
   "source": [
    "data_length = 20000\n",
    "split = int(0.8*data_length)\n",
    "train_X = data[:split, 4:]\n",
    "train_Y = np_utils.to_categorical(data[:split, 3])\n",
    "\n",
    "test_X = data[split:data_length, 4:]\n",
    "test_Y=np_utils.to_categorical(data[split:data_length, 3])\n",
    "\n",
    "print train_X.shape,train_Y.shape\n",
    "print test_X.shape,test_Y.shape"
   ]
  },
  {
   "cell_type": "code",
   "execution_count": 32,
   "metadata": {},
   "outputs": [
    {
     "name": "stdout",
     "output_type": "stream",
     "text": [
      "_________________________________________________________________\n",
      "Layer (type)                 Output Shape              Param #   \n",
      "=================================================================\n",
      "dense_5 (Dense)              (None, 12)                84        \n",
      "_________________________________________________________________\n",
      "activation_4 (Activation)    (None, 12)                0         \n",
      "_________________________________________________________________\n",
      "dense_6 (Dense)              (None, 6)                 78        \n",
      "_________________________________________________________________\n",
      "activation_5 (Activation)    (None, 6)                 0         \n",
      "_________________________________________________________________\n",
      "dense_7 (Dense)              (None, 2)                 14        \n",
      "_________________________________________________________________\n",
      "activation_6 (Activation)    (None, 2)                 0         \n",
      "=================================================================\n",
      "Total params: 176\n",
      "Trainable params: 176\n",
      "Non-trainable params: 0\n",
      "_________________________________________________________________\n"
     ]
    }
   ],
   "source": [
    "model = Sequential()\n",
    "\n",
    "model.add(Dense(12, input_shape=(6,)))\n",
    "model.add(Activation('relu'))\n",
    "\n",
    "model.add(Dense(6))\n",
    "model.add(Activation('relu'))\n",
    "\n",
    "model.add(Dense(2))\n",
    "model.add(Activation('softmax'))\n",
    "\n",
    "model.summary()\n",
    "model.compile(loss=\"categorical_crossentropy\", optimizer=\"adagrad\", metrics=['accuracy'])"
   ]
  },
  {
   "cell_type": "code",
   "execution_count": 33,
   "metadata": {},
   "outputs": [
    {
     "name": "stdout",
     "output_type": "stream",
     "text": [
      "Train on 16000 samples, validate on 4000 samples\n",
      "Epoch 1/30\n",
      "16000/16000 [==============================] - 2s - loss: 0.2359 - acc: 0.9234 - val_loss: 0.1803 - val_acc: 0.9513\n",
      "Epoch 2/30\n",
      "16000/16000 [==============================] - 0s - loss: 0.1181 - acc: 0.9691 - val_loss: 0.1304 - val_acc: 0.9695\n",
      "Epoch 3/30\n",
      "16000/16000 [==============================] - 0s - loss: 0.0937 - acc: 0.9738 - val_loss: 0.1127 - val_acc: 0.9742\n",
      "Epoch 4/30\n",
      "16000/16000 [==============================] - 0s - loss: 0.0827 - acc: 0.9762 - val_loss: 0.1057 - val_acc: 0.9745\n",
      "Epoch 5/30\n",
      "16000/16000 [==============================] - 0s - loss: 0.0763 - acc: 0.9778 - val_loss: 0.1010 - val_acc: 0.9748\n",
      "Epoch 6/30\n",
      "16000/16000 [==============================] - 0s - loss: 0.0720 - acc: 0.9782 - val_loss: 0.0990 - val_acc: 0.9750\n",
      "Epoch 7/30\n",
      "16000/16000 [==============================] - 0s - loss: 0.0690 - acc: 0.9783 - val_loss: 0.0951 - val_acc: 0.9758\n",
      "Epoch 8/30\n",
      "16000/16000 [==============================] - 0s - loss: 0.0666 - acc: 0.9796 - val_loss: 0.0938 - val_acc: 0.9762\n",
      "Epoch 9/30\n",
      "16000/16000 [==============================] - 2s - loss: 0.0646 - acc: 0.9802 - val_loss: 0.0911 - val_acc: 0.9768\n",
      "Epoch 10/30\n",
      "16000/16000 [==============================] - 1s - loss: 0.0631 - acc: 0.9805 - val_loss: 0.0920 - val_acc: 0.9762\n",
      "Epoch 11/30\n",
      "16000/16000 [==============================] - 0s - loss: 0.0616 - acc: 0.9816 - val_loss: 0.0873 - val_acc: 0.9785\n",
      "Epoch 12/30\n",
      "16000/16000 [==============================] - 1s - loss: 0.0606 - acc: 0.9814 - val_loss: 0.0908 - val_acc: 0.9772\n",
      "Epoch 13/30\n",
      "16000/16000 [==============================] - 1s - loss: 0.0597 - acc: 0.9816 - val_loss: 0.0889 - val_acc: 0.9782\n",
      "Epoch 14/30\n",
      "16000/16000 [==============================] - ETA: 0s - loss: 0.0586 - acc: 0.981 - 1s - loss: 0.0588 - acc: 0.9817 - val_loss: 0.0867 - val_acc: 0.9785\n",
      "Epoch 15/30\n",
      "16000/16000 [==============================] - 0s - loss: 0.0580 - acc: 0.9818 - val_loss: 0.0848 - val_acc: 0.9790\n",
      "Epoch 16/30\n",
      "16000/16000 [==============================] - 0s - loss: 0.0573 - acc: 0.9821 - val_loss: 0.0883 - val_acc: 0.9775\n",
      "Epoch 17/30\n",
      "16000/16000 [==============================] - 0s - loss: 0.0567 - acc: 0.9821 - val_loss: 0.0841 - val_acc: 0.9798\n",
      "Epoch 18/30\n",
      "16000/16000 [==============================] - 0s - loss: 0.0561 - acc: 0.9825 - val_loss: 0.0822 - val_acc: 0.9792\n",
      "Epoch 19/30\n",
      "16000/16000 [==============================] - 0s - loss: 0.0556 - acc: 0.9825 - val_loss: 0.0867 - val_acc: 0.9778\n",
      "Epoch 20/30\n",
      "16000/16000 [==============================] - 0s - loss: 0.0551 - acc: 0.9826 - val_loss: 0.0860 - val_acc: 0.9780\n",
      "Epoch 21/30\n",
      "16000/16000 [==============================] - 0s - loss: 0.0547 - acc: 0.9831 - val_loss: 0.0826 - val_acc: 0.9795\n",
      "Epoch 22/30\n",
      "16000/16000 [==============================] - 0s - loss: 0.0542 - acc: 0.9829 - val_loss: 0.0854 - val_acc: 0.9782\n",
      "Epoch 23/30\n",
      "16000/16000 [==============================] - 0s - loss: 0.0538 - acc: 0.9833 - val_loss: 0.0810 - val_acc: 0.9810\n",
      "Epoch 24/30\n",
      "16000/16000 [==============================] - 0s - loss: 0.0534 - acc: 0.9835 - val_loss: 0.0797 - val_acc: 0.9812\n",
      "Epoch 25/30\n",
      "16000/16000 [==============================] - 0s - loss: 0.0531 - acc: 0.9832 - val_loss: 0.0821 - val_acc: 0.9798\n",
      "Epoch 26/30\n",
      "16000/16000 [==============================] - 0s - loss: 0.0528 - acc: 0.9833 - val_loss: 0.0813 - val_acc: 0.9808\n",
      "Epoch 27/30\n",
      "16000/16000 [==============================] - 0s - loss: 0.0525 - acc: 0.9835 - val_loss: 0.0814 - val_acc: 0.9802\n",
      "Epoch 28/30\n",
      "16000/16000 [==============================] - 0s - loss: 0.0522 - acc: 0.9839 - val_loss: 0.0829 - val_acc: 0.9798\n",
      "Epoch 29/30\n",
      "16000/16000 [==============================] - 0s - loss: 0.0519 - acc: 0.9840 - val_loss: 0.0788 - val_acc: 0.9818\n",
      "Epoch 30/30\n",
      "16000/16000 [==============================] - 0s - loss: 0.0517 - acc: 0.9838 - val_loss: 0.0789 - val_acc: 0.9818\n"
     ]
    }
   ],
   "source": [
    "hist = model.fit(train_X, train_Y, epochs= 30, shuffle=True, validation_data=(test_X, test_Y))"
   ]
  },
  {
   "cell_type": "code",
   "execution_count": 35,
   "metadata": {},
   "outputs": [],
   "source": [
    "result = model.predict(test_X)"
   ]
  },
  {
   "cell_type": "code",
   "execution_count": 52,
   "metadata": {},
   "outputs": [
    {
     "name": "stdout",
     "output_type": "stream",
     "text": [
      "1\n",
      "1\n"
     ]
    }
   ],
   "source": [
    "for(i=0; i<test_X.length;)\n",
    "print np.argmax(result[i])\n",
    "print np.argmax(test_Y[i])"
   ]
  },
  {
   "cell_type": "code",
   "execution_count": null,
   "metadata": {},
   "outputs": [],
   "source": []
  },
  {
   "cell_type": "code",
   "execution_count": null,
   "metadata": {
    "collapsed": true
   },
   "outputs": [],
   "source": []
  }
 ],
 "metadata": {
  "kernelspec": {
   "display_name": "Python 2",
   "language": "python",
   "name": "python2"
  },
  "language_info": {
   "codemirror_mode": {
    "name": "ipython",
    "version": 2
   },
   "file_extension": ".py",
   "mimetype": "text/x-python",
   "name": "python",
   "nbconvert_exporter": "python",
   "pygments_lexer": "ipython2",
   "version": "2.7.13"
  }
 },
 "nbformat": 4,
 "nbformat_minor": 2
}
