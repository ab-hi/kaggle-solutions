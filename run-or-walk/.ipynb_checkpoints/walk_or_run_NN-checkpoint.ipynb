{
 "cells": [
  {
   "cell_type": "code",
   "execution_count": 3,
   "metadata": {},
   "outputs": [],
   "source": [
    "import pandas as pd\n",
    "import numpy as np\n",
    "from matplotlib import pyplot as plt\n",
    "%matplotlib inline\n",
    "\n",
    "import keras\n",
    "from keras.layers import Input, Activation, Dense\n",
    "from keras.utils import np_utils\n",
    "from keras.models import Sequential"
   ]
  },
  {
   "cell_type": "code",
   "execution_count": 17,
   "metadata": {},
   "outputs": [],
   "source": [
    "ds=pd.read_csv('run-or-walk/dataset.csv')\n",
    "ds.head(n=10)\n",
    "data=ds.values\n",
    "\n",
    "#print data.shape"
   ]
  },
  {
   "cell_type": "code",
   "execution_count": 20,
   "metadata": {},
   "outputs": [
    {
     "name": "stdout",
     "output_type": "stream",
     "text": [
      "(16000L, 6L) (16000L,)\n"
     ]
    }
   ],
   "source": [
    "data_length = 20000\n",
    "split = int(0.8*data_length)\n",
    "train_X = data[:split, 4:]\n",
    "train_Y = data[:split, 3]\n",
    "\n",
    "test_X = data[split:data_length, 4:]\n",
    "test_Y= data[split:data_length, 3]\n",
    "\n",
    "print train_X.shape,train_Y.shape\n",
    "print test_X.shape,test_Y.shape"
   ]
  },
  {
   "cell_type": "code",
   "execution_count": null,
   "metadata": {
    "collapsed": true
   },
   "outputs": [],
   "source": []
  }
 ],
 "metadata": {
  "kernelspec": {
   "display_name": "Python 2",
   "language": "python",
   "name": "python2"
  },
  "language_info": {
   "codemirror_mode": {
    "name": "ipython",
    "version": 2
   },
   "file_extension": ".py",
   "mimetype": "text/x-python",
   "name": "python",
   "nbconvert_exporter": "python",
   "pygments_lexer": "ipython2",
   "version": "2.7.13"
  }
 },
 "nbformat": 4,
 "nbformat_minor": 2
}
